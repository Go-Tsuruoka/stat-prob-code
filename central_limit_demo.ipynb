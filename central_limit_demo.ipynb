{
 "cells": [
  {
   "attachments": {},
   "cell_type": "markdown",
   "metadata": {},
   "source": [
    "# 中心極限定理の確認"
   ]
  },
  {
   "attachments": {},
   "cell_type": "markdown",
   "metadata": {},
   "source": [
    "中心極限定理とは，ある母集団(正規分布でなくてもよい)から，N個サンプルを抽出することを考える．\n",
    "この時，Nが大きくなるにつれて，標本平均の分布は正規分布に従うという定理である．\n",
    "\n",
    "例えば，サイコロを10回振って出た目の平均を記録することを繰り返そう．\n",
    "\n",
    "この時，平均を記録する回数を増やすにつれて，正規分布に近づいていく．"
   ]
  },
  {
   "attachments": {},
   "cell_type": "markdown",
   "metadata": {},
   "source": [
    "## 中心極限定理の検証1\n",
    "平均1，分散1となる指数分布を考えよう．この分布にしたがって10個のサンプルを抽出し，その平均を記録することを20000回繰り返す．\n",
    "\n",
    "中心極限定理に従うのならば，この平均の分布は正規分布に従うはずである．\n",
    "\n",
    "平均分散がともに1の指数分布の平均だから，平均は1，分散0.1となるはずである．\n",
    "\n"
   ]
  },
  {
   "cell_type": "code",
   "execution_count": 26,
   "metadata": {},
   "outputs": [
    {
     "data": {
      "image/png": "[encoded data removed]",
      "text/plain": [
       "<Figure size 432x288 with 1 Axes>"
      ]
     },
     "metadata": {
      "needs_background": "light"
     },
     "output_type": "display_data"
    },
    {
     "name": "stdout",
     "output_type": "stream",
     "text": [
      "1.0001898095161639\n",
      "0.0993086214144844\n"
     ]
    }
   ],
   "source": [
    "import random\n",
    "import math\n",
    "import numpy as np\n",
    "import matplotlib.pyplot as plt\n",
    "def exponential(lam):\n",
    "    unif_random = random.uniform(0,1)\n",
    "    sisuu_random = -(1/lam)*math.log((1-unif_random))\n",
    "    return sisuu_random\n",
    "\n",
    "x=np.array([])\n",
    "y=np.array([])\n",
    "num=np.array([])\n",
    "N=20000\n",
    "for j in range(N):\n",
    "    S=0\n",
    "    for i in range(10):\n",
    "        exponential_random = exponential(1)\n",
    "        S += exponential_random\n",
    "    S=S/10  #N(1,1)に従うはず\n",
    "    x = np.append(x,[S])\n",
    "\n",
    "DIF=0.1\n",
    "k=-1\n",
    "y_2=np.array([])\n",
    "y=np.append(y,[k])\n",
    "y_2=np.append(y_2,[(np.count_nonzero((x<k+DIF)))/N])\n",
    "k+=DIF\n",
    "UPMAX = 3\n",
    "while(k<=UPMAX):\n",
    "    y=np.append(y,[k])\n",
    "    y_2=np.append(y_2,[(np.count_nonzero((k<=x)&(x<k+DIF)))/N])# ある範囲の標本値の個数の個数の数え上げ\n",
    "    k+=DIF\n",
    "y=np.append(y,[UPMAX])\n",
    "y_2=np.append(y_2,[np.count_nonzero((UPMAX<=x))/N])\n",
    "plt.bar(y,y_2,width=DIF)\n",
    "plt.title(\" 乱数の区間に置ける発生率\",fontname=\"MS Gothic\")\n",
    "plt.xlabel(\" 値\",fontname=\"MS Gothic\")\n",
    "plt.ylabel(\" 生成確率\",fontname=\"MS Gothic\")\n",
    "plt.savefig(\"test7.png\",format=\"png\",dpi=300)\n",
    "plt.show()\n",
    "\n",
    "print(x.mean())\n",
    "print(x.var())\n"
   ]
  },
  {
   "attachments": {},
   "cell_type": "markdown",
   "metadata": {},
   "source": [
    "## 中心極限定理の検証2\n",
    "一様分布12個の平均を考えよう．同様に，平均の期待値は6,分散は12となるはずである．"
   ]
  },
  {
   "cell_type": "code",
   "execution_count": 27,
   "metadata": {},
   "outputs": [
    {
     "data": {
      "image/png": "[encoded data removed]",
      "text/plain": [
       "<Figure size 432x288 with 1 Axes>"
      ]
     },
     "metadata": {
      "needs_background": "light"
     },
     "output_type": "display_data"
    }
   ],
   "source": [
    "import random\n",
    "import math\n",
    "import numpy as np\n",
    "import matplotlib.pyplot as plt\n",
    "x=np.array([])\n",
    "y=np.array([])\n",
    "num=np.array([])\n",
    "N=200000\n",
    "for j in range(N):\n",
    "    S=0\n",
    "    for i in range(12):\n",
    "        u=random.uniform(0,1)# 一様分布に従う乱数生成\n",
    "        S+=u\n",
    "    f=3*S-17# N(1 ,9 )に従う乱数となる．\n",
    "    x=np.append(x,[f])\n",
    "\n",
    "DIF=0.4\n",
    "k=-10\n",
    "y_2=np.array([])\n",
    "y=np.append(y,[k])\n",
    "y_2=np.append(y_2,[(np.count_nonzero((x<k+DIF)))/N])\n",
    "k+=DIF\n",
    "UPMAX = 10\n",
    "while(k<=UPMAX):\n",
    "    y=np.append(y,[k])\n",
    "    y_2=np.append(y_2,[(np.count_nonzero((k<=x)&(x<k+DIF)))/N])# ある範囲の標本値の個数の個数の数え上げ\n",
    "    k+=DIF\n",
    "y=np.append(y,[UPMAX])\n",
    "y_2=np.append(y_2,[np.count_nonzero((UPMAX<=x))/N])\n",
    "plt.bar(y,y_2,width=0.4)\n",
    "plt.title(\" 乱数の区間に置ける発生率\",fontname=\"MS Gothic\")\n",
    "plt.xlabel(\" 値\",fontname=\"MS Gothic\")\n",
    "plt.ylabel(\" 生成確率\",fontname=\"MS Gothic\")\n",
    "plt.savefig(\"test7.png\",format=\"png\",dpi=300)\n",
    "plt.show()\n",
    "\n",
    "print(x.mean())\n",
    "print(x.var())\n",
    "\n"
   ]
  }
 ],
 "metadata": {
  "kernelspec": {
   "display_name": "Python 3",
   "language": "python",
   "name": "python3"
  },
  "language_info": {
   "codemirror_mode": {
    "name": "ipython",
    "version": 3
   },
   "file_extension": ".py",
   "mimetype": "text/x-python",
   "name": "python",
   "nbconvert_exporter": "python",
   "pygments_lexer": "ipython3",
   "version": "3.6.7"
  },
  "orig_nbformat": 4
 },
 "nbformat": 4,
 "nbformat_minor": 2
}
