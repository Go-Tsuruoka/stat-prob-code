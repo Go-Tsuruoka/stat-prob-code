{
 "cells": [
  {
   "attachments": {},
   "cell_type": "markdown",
   "metadata": {},
   "source": [
    "# 逆関数法とは\n",
    "指数関数に従うコードを逆関数法を用いて生成する．\n",
    "\n",
    "逆関数法とは累積分布関数の逆関数を用いて標準一様分布に従う関数から，目的の分布関数に従う乱数を生成する方法である．"
   ]
  },
  {
   "attachments": {},
   "cell_type": "markdown",
   "metadata": {},
   "source": [
    "## 指数関数での例\n",
    "以下のような指数分布を考えよう\n",
    "$$f(x) = \\lambda e^{-\\lambda x}$$\n",
    "累積分布関数は以下の通り．\n",
    "\n",
    "$$F(x) = \\int_{-\\infty}^{x}\\lambda e^{-\\lambda t}dt= 1-e^{-\\lambda x}$$\n",
    "\n",
    "よって，累積分布関数の逆関数は次の通り．\n",
    "$$F^{-1}(x)= -\\frac{1}{\\lambda} \\log(1-x)$$"
   ]
  },
  {
   "cell_type": "code",
   "execution_count": 2,
   "metadata": {},
   "outputs": [],
   "source": [
    "import random\n",
    "import math\n",
    "\n",
    "lam = 2\n",
    "unif_random = random.uniform(0,1)\n",
    "\n",
    "sisuu_random = f=-(1/lam)*math.log((1-unif_random))"
   ]
  },
  {
   "attachments": {},
   "cell_type": "markdown",
   "metadata": {},
   "source": [
    "## 確認\n",
    "実際に確認してみよう．\n",
    "ここでは以下のようにしている\n",
    "- N個の指数分布に従う乱数を生成する\n",
    "- DIF = 0.1刻みでその個数を数え，割合を求める\n",
    "- matplotlibで出力"
   ]
  },
  {
   "cell_type": "code",
   "execution_count": 5,
   "metadata": {},
   "outputs": [
    {
     "data": {
      "image/png": "[encoded data removed]",
      "text/plain": [
       "<Figure size 432x288 with 1 Axes>"
      ]
     },
     "metadata": {
      "needs_background": "light"
     },
     "output_type": "display_data"
    }
   ],
   "source": [
    "import random\n",
    "import math\n",
    "import numpy as np\n",
    "import matplotlib.pyplot as plt\n",
    "\n",
    "def exponential(lam):\n",
    "    unif_random = random.uniform(0,1)\n",
    "    sisuu_random = -(1/lam)*math.log((1-unif_random))\n",
    "    return sisuu_random\n",
    "\n",
    "random_numbers = np.array([])#乱数を格納する配列\n",
    "y_label = np.array([]) # 横軸のラベル\n",
    "density=np.array([])   # 確率密度を格納する配列\n",
    "\n",
    "lam = 2\n",
    "N = 1000 # サンプル数\n",
    "\n",
    "for i in range(N):\n",
    "    exp_random = exponential(2)\n",
    "    random_numbers = np.append(random_numbers, [exp_random])\n",
    "\n",
    "DIF = 0.1\n",
    "k = 0\n",
    "while(k<=10-DIF):\n",
    "    y_label = np.append(y_label,[k])\n",
    "    density = np.append(density,[(np.count_nonzero((k<=random_numbers)&(random_numbers<k+DIF)))/N])# ある範囲の標本値の個数の個数の数え上げ\n",
    "    k += DIF\n",
    "    \n",
    "y_label = np.append(y_label,[10])\n",
    "density=np.append(density,[np.count_nonzero((10<=x))/N])# 10 以上の値の個数を算出する\n",
    "\n",
    "plt.bar(y_label,density,width=DIF)\n",
    "plt.title(\" 各区間における乱数の発生率\",fontname=\"MS Gothic\")\n",
    "plt.xlabel(\" 生じた乱数の値\",fontname=\"MS Gothic\")\n",
    "plt.ylabel(\" 区間に置ける乱数の発生確率\",fontname=\"MS Gothic\")\n",
    "plt.savefig(\"test2.png\",format=\"png\",dpi=300)\n",
    "\n",
    "plt.show()\n"
   ]
  },
  {
   "attachments": {},
   "cell_type": "markdown",
   "metadata": {},
   "source": [
    "分散や期待値を考えることで定量的にも比較してみよう．指数分布の期待値，および分散は次の通りである．\n",
    "$$E(x) = \\frac{1}{\\lambda}$$\n",
    "$$V(x) = \\frac{1}{\\lambda^2}$$"
   ]
  },
  {
   "cell_type": "code",
   "execution_count": 6,
   "metadata": {},
   "outputs": [
    {
     "name": "stdout",
     "output_type": "stream",
     "text": [
      "逆関数法による値の平均:0.5115142210243904\n",
      "指数分布の平均(理論値):0.5\n",
      "逆関数法による値の分散:0.23539303304747042\n",
      "指数分布の分散(理論値):0.25\n"
     ]
    }
   ],
   "source": [
    "print(f\"逆関数法による値の平均:{random_numbers.mean()}\")\n",
    "print(f\"指数分布の平均(理論値):{1/lam}\")\n",
    "print(f\"逆関数法による値の分散:{random_numbers.var()}\")\n",
    "print(f\"指数分布の分散(理論値):{1/lam**2}\")"
   ]
  },
  {
   "attachments": {},
   "cell_type": "markdown",
   "metadata": {},
   "source": [
    "### 大数の法則の検証\n",
    "乱数生成個数が増えると理論値に近づくのか，乱数生成個数とその平均値(期待値)の関係についても見てみよう．"
   ]
  },
  {
   "cell_type": "code",
   "execution_count": 1,
   "metadata": {},
   "outputs": [
    {
     "ename": "KeyboardInterrupt",
     "evalue": "",
     "output_type": "error",
     "traceback": [
      "\u001b[1;31m---------------------------------------------------------------------------\u001b[0m",
      "\u001b[1;31mKeyboardInterrupt\u001b[0m                         Traceback (most recent call last)",
      "\u001b[1;32m<ipython-input-1-2a31549d5c5d>\u001b[0m in \u001b[0;36m<module>\u001b[1;34m\u001b[0m\n\u001b[0;32m     24\u001b[0m     \u001b[1;32mfor\u001b[0m \u001b[0mj\u001b[0m \u001b[1;32min\u001b[0m \u001b[0mrange\u001b[0m\u001b[1;33m(\u001b[0m\u001b[0mi\u001b[0m\u001b[1;33m)\u001b[0m\u001b[1;33m:\u001b[0m\u001b[1;33m\u001b[0m\u001b[1;33m\u001b[0m\u001b[0m\n\u001b[0;32m     25\u001b[0m         \u001b[0mexp_random\u001b[0m \u001b[1;33m=\u001b[0m \u001b[0mexponential\u001b[0m\u001b[1;33m(\u001b[0m\u001b[0mlam\u001b[0m\u001b[1;33m)\u001b[0m\u001b[1;33m\u001b[0m\u001b[1;33m\u001b[0m\u001b[0m\n\u001b[1;32m---> 26\u001b[1;33m         \u001b[0mx\u001b[0m \u001b[1;33m=\u001b[0m \u001b[0mnp\u001b[0m\u001b[1;33m.\u001b[0m\u001b[0mappend\u001b[0m\u001b[1;33m(\u001b[0m\u001b[0mx\u001b[0m\u001b[1;33m,\u001b[0m \u001b[1;33m[\u001b[0m\u001b[0mexp_random\u001b[0m\u001b[1;33m]\u001b[0m\u001b[1;33m)\u001b[0m\u001b[1;33m\u001b[0m\u001b[1;33m\u001b[0m\u001b[0m\n\u001b[0m\u001b[0;32m     27\u001b[0m     \u001b[0maverages\u001b[0m \u001b[1;33m=\u001b[0m \u001b[0mnp\u001b[0m\u001b[1;33m.\u001b[0m\u001b[0mappend\u001b[0m\u001b[1;33m(\u001b[0m\u001b[0maverages\u001b[0m\u001b[1;33m,\u001b[0m\u001b[1;33m[\u001b[0m\u001b[0mx\u001b[0m\u001b[1;33m.\u001b[0m\u001b[0mmean\u001b[0m\u001b[1;33m(\u001b[0m\u001b[1;33m)\u001b[0m\u001b[1;33m]\u001b[0m\u001b[1;33m)\u001b[0m\u001b[1;33m\u001b[0m\u001b[1;33m\u001b[0m\u001b[0m\n\u001b[0;32m     28\u001b[0m     \u001b[0mvariances\u001b[0m \u001b[1;33m=\u001b[0m \u001b[0mnp\u001b[0m\u001b[1;33m.\u001b[0m\u001b[0mappend\u001b[0m\u001b[1;33m(\u001b[0m\u001b[0mvariances\u001b[0m\u001b[1;33m,\u001b[0m\u001b[1;33m[\u001b[0m\u001b[0mx\u001b[0m\u001b[1;33m.\u001b[0m\u001b[0mvar\u001b[0m\u001b[1;33m(\u001b[0m\u001b[1;33m)\u001b[0m\u001b[1;33m]\u001b[0m\u001b[1;33m)\u001b[0m\u001b[1;33m\u001b[0m\u001b[1;33m\u001b[0m\u001b[0m\n",
      "\u001b[1;32m<__array_function__ internals>\u001b[0m in \u001b[0;36mappend\u001b[1;34m(*args, **kwargs)\u001b[0m\n",
      "\u001b[1;32mc:\\Users\\gotsu\\AppData\\Local\\Programs\\Python\\Python36\\lib\\site-packages\\numpy\\lib\\function_base.py\u001b[0m in \u001b[0;36mappend\u001b[1;34m(arr, values, axis)\u001b[0m\n\u001b[0;32m   4669\u001b[0m         \u001b[0mvalues\u001b[0m \u001b[1;33m=\u001b[0m \u001b[0mravel\u001b[0m\u001b[1;33m(\u001b[0m\u001b[0mvalues\u001b[0m\u001b[1;33m)\u001b[0m\u001b[1;33m\u001b[0m\u001b[1;33m\u001b[0m\u001b[0m\n\u001b[0;32m   4670\u001b[0m         \u001b[0maxis\u001b[0m \u001b[1;33m=\u001b[0m \u001b[0marr\u001b[0m\u001b[1;33m.\u001b[0m\u001b[0mndim\u001b[0m\u001b[1;33m-\u001b[0m\u001b[1;36m1\u001b[0m\u001b[1;33m\u001b[0m\u001b[1;33m\u001b[0m\u001b[0m\n\u001b[1;32m-> 4671\u001b[1;33m     \u001b[1;32mreturn\u001b[0m \u001b[0mconcatenate\u001b[0m\u001b[1;33m(\u001b[0m\u001b[1;33m(\u001b[0m\u001b[0marr\u001b[0m\u001b[1;33m,\u001b[0m \u001b[0mvalues\u001b[0m\u001b[1;33m)\u001b[0m\u001b[1;33m,\u001b[0m \u001b[0maxis\u001b[0m\u001b[1;33m=\u001b[0m\u001b[0maxis\u001b[0m\u001b[1;33m)\u001b[0m\u001b[1;33m\u001b[0m\u001b[1;33m\u001b[0m\u001b[0m\n\u001b[0m\u001b[0;32m   4672\u001b[0m \u001b[1;33m\u001b[0m\u001b[0m\n\u001b[0;32m   4673\u001b[0m \u001b[1;33m\u001b[0m\u001b[0m\n",
      "\u001b[1;32m<__array_function__ internals>\u001b[0m in \u001b[0;36mconcatenate\u001b[1;34m(*args, **kwargs)\u001b[0m\n",
      "\u001b[1;31mKeyboardInterrupt\u001b[0m: "
     ]
    }
   ],
   "source": [
    "import random\n",
    "import math\n",
    "import numpy as np\n",
    "import matplotlib.pyplot as plt\n",
    "\n",
    "averages = np.array([])\n",
    "variances = np.array([])\n",
    "y_labels = np.array([])\n",
    "\n",
    "numbers = np.array([])\n",
    "\n",
    "lam = 2\n",
    "\n",
    "def exponential(lam):\n",
    "    unif_random = random.uniform(0,1)\n",
    "    sisuu_random = -(1/lam)*math.log((1-unif_random))\n",
    "    return sisuu_random\n",
    "\n",
    "MAX = 20000\n",
    "\n",
    "for i in range(1,MAX+1,50):\n",
    "    x = np.array([])\n",
    "    numbers = np.append(numbers,[i])\n",
    "    for j in range(i):\n",
    "        exp_random = exponential(lam)\n",
    "        x = np.append(x, [exp_random])\n",
    "    averages = np.append(averages,[x.mean()])\n",
    "    variances = np.append(variances,[x.var()])\n",
    "    y_labels = np.append(y_labels,[i])\n",
    "plt.subplot(1,2,1)\n",
    "plt.title(\" 乱数生成個数とその時の平均値\",fontname=\"MS Gothic\")\n",
    "plt.xlabel(\" 乱数生成個数\",fontname=\"MS Gothic\")\n",
    "plt.ylabel(\" 平均値\",fontname=\"MS Gothic\")\n",
    "plt.plot(numbers,averages)\n",
    "\n",
    "plt.subplot(1,2,2)\n",
    "plt.title(\" 乱数生成個数とその時の分散\",fontname=\"MS Gothic\")\n",
    "plt.xlabel(\" 乱数生成個数\",fontname=\"MS Gothic\")\n",
    "plt.ylabel(\" 分散\",fontname=\"MS Gothic\")\n",
    "plt.plot(numbers,variances)\n",
    "#plt.savefig(\"test4.png\",format=\"png\",dpi=300)\n",
    "plt.show()\n"
   ]
  },
  {
   "attachments": {},
   "cell_type": "markdown",
   "metadata": {},
   "source": [
    "## パレート分布\n",
    "逆関数法を同様にパレート分布においても考えてみよう．パレート分布はべき乗測度に従う分布の代表例．\n",
    "ネットワークの研究やインターネットの研究でよく使われる．\n",
    "\n",
    "確率密度関数と累積分布関数は，正の数a,bを用いて以下の式で表せる．\n",
    "\n",
    "$$f(x) = \\frac{a b^a}{x^{a+1}}$$\n",
    "$$F(x) = 1 - \\left(\\frac{b}{x}\\right)^a$$"
   ]
  },
  {
   "attachments": {},
   "cell_type": "markdown",
   "metadata": {},
   "source": [
    "逆関数は，指数分布の場合と同様に考えると以下のようになる．\n",
    "$$F^{-1}(x) = b \\left(1-x\\right)^{-\\frac{1}{a}}$$\n",
    "\n",
    "## 指数分布の場合同様に検証してみよう"
   ]
  },
  {
   "cell_type": "code",
   "execution_count": 46,
   "metadata": {},
   "outputs": [
    {
     "data": {
      "image/png": "[encoded data removed]",
      "text/plain": [
       "<Figure size 432x288 with 1 Axes>"
      ]
     },
     "metadata": {
      "needs_background": "light"
     },
     "output_type": "display_data"
    }
   ],
   "source": [
    "\n",
    "import random\n",
    "import math\n",
    "import numpy as np\n",
    "import matplotlib.pyplot as plt\n",
    "random_numbers=np.array([])\n",
    "y_labels=np.array([])\n",
    "density=np.array([])\n",
    "a=3\n",
    "b=1\n",
    "N=20000\n",
    "\n",
    "for i in range(N):\n",
    "    u=random.uniform(0,1)# 一様分布に従う乱数生成\n",
    "    f=pow((1-u),-1/a)*b# 逆関数法を用いたパレート分布にしたがう乱数生成．\n",
    "    random_numbers=np.append(random_numbers,[f])# 発生した指数を入れる．\n",
    "    \n",
    "\n",
    "\n",
    "DIF=0.1 # 個数の集計する間隔\n",
    "k=0\n",
    "\n",
    "UPMAX = 7\n",
    "\n",
    "while(k<=UPMAX):\n",
    "    y_labels=np.append(y_labels,[k])\n",
    "    density=np.append(density,[(np.count_nonzero((k<=x)&(x<k+DIF)))/N])# ある範囲の標本値の個数の個数の数え上げ\n",
    "    k+=DIF\n",
    "y_labels=np.append(y_labels,[UPMAX])\n",
    "density=np.append(density,[np.count_nonzero((UPMAX<=x))/N])\n",
    "\n",
    "plt.bar(y_labels,density,width=0.10)\n",
    "plt.title(\" 各区間における乱数の発生率\",fontname=\"MS Gothic\")\n",
    "plt.xlabel(\" 生じた乱数の値\",fontname=\"MS Gothic\")\n",
    "plt.ylabel(\" 区間に置ける乱数の発生確率\",fontname=\"MS Gothic\")\n",
    "plt.savefig(\"test3.png\",format=\"png\",dpi=300)\n",
    "plt.show()"
   ]
  },
  {
   "attachments": {},
   "cell_type": "markdown",
   "metadata": {},
   "source": [
    "平均と分散はそれぞれ次の通り\n",
    "$$E(x) = \\frac{a b}{a-1}$$\n",
    "$$V(x) = \\frac{ab^2}{(a-1)^2(a-2)}$$"
   ]
  },
  {
   "cell_type": "code",
   "execution_count": 20,
   "metadata": {},
   "outputs": [
    {
     "name": "stdout",
     "output_type": "stream",
     "text": [
      "逆関数法による値の平均:1.4940291934197965\n",
      "パレート分布の平均(理論値):1.5\n",
      "逆関数法による値の分散:0.6844982399114259\n",
      "パレート分布の分散(理論値):0.75\n"
     ]
    }
   ],
   "source": [
    "print(f\"逆関数法による値の平均:{x.mean()}\")\n",
    "print(f\"パレート分布の平均(理論値):{a*b/(a-1)}\")\n",
    "print(f\"逆関数法による値の分散:{x.var()}\")\n",
    "print(f\"パレート分布の分散(理論値):{a*b**2/((a-1)**2*(a-2))}\")"
   ]
  },
  {
   "attachments": {},
   "cell_type": "markdown",
   "metadata": {},
   "source": [
    "## 大数の法則の確認"
   ]
  },
  {
   "cell_type": "code",
   "execution_count": 51,
   "metadata": {},
   "outputs": [
    {
     "data": {
      "image/png": "[encoded data removed]",
      "text/plain": [
       "<Figure size 432x288 with 2 Axes>"
      ]
     },
     "metadata": {
      "needs_background": "light"
     },
     "output_type": "display_data"
    }
   ],
   "source": [
    "import random\n",
    "import math\n",
    "import numpy as np\n",
    "import matplotlib.pyplot as plt\n",
    "\n",
    "averages = np.array([])\n",
    "variances = np.array([])\n",
    "\n",
    "numbers = np.array([])\n",
    "\n",
    "a=3\n",
    "b=1\n",
    "#パレート分布\n",
    "\n",
    "def pareto(a,b):\n",
    "    u =  random.uniform(0,1)\n",
    "    pareto_random = pow((1-u),-1/a)*b# 逆関数法を用いたパレート分布にしたがう乱数生成\n",
    "    return pareto_random\n",
    "\n",
    "MAX = 20000\n",
    "\n",
    "for i in range(1,MAX+1,50):\n",
    "    x = np.array([])\n",
    "    numbers = np.append(numbers,[i])\n",
    "    for j in range(i):\n",
    "        pareto_random = pareto(a,b)\n",
    "        x = np.append(x, [pareto_random])\n",
    "    averages = np.append(averages,[x.mean()])\n",
    "    variances = np.append(variances,[x.var()])\n",
    "   \n",
    "plt.subplot(1,2,1)\n",
    "plt.title(\" 乱数生成個数とその時の平均値\",fontname=\"MS Gothic\")\n",
    "plt.xlabel(\" 乱数生成個数\",fontname=\"MS Gothic\")\n",
    "plt.ylabel(\" 平均値\",fontname=\"MS Gothic\")\n",
    "plt.plot(numbers,averages)\n",
    "\n",
    "plt.subplot(1,2,2)\n",
    "plt.title(\" 乱数生成個数とその時の分散\",fontname=\"MS Gothic\")\n",
    "plt.xlabel(\" 乱数生成個数\",fontname=\"MS Gothic\")\n",
    "plt.ylabel(\" 分散\",fontname=\"MS Gothic\")\n",
    "plt.plot(numbers,variances)\n",
    "#plt.savefig(\"test4.png\",format=\"png\",dpi=300)\n",
    "plt.show()"
   ]
  }
 ],
 "metadata": {
  "kernelspec": {
   "display_name": "Python 3",
   "language": "python",
   "name": "python3"
  },
  "language_info": {
   "codemirror_mode": {
    "name": "ipython",
    "version": 3
   },
   "file_extension": ".py",
   "mimetype": "text/x-python",
   "name": "python",
   "nbconvert_exporter": "python",
   "pygments_lexer": "ipython3",
   "version": "3.6.7"
  },
  "orig_nbformat": 4
 },
 "nbformat": 4,
 "nbformat_minor": 2
}
